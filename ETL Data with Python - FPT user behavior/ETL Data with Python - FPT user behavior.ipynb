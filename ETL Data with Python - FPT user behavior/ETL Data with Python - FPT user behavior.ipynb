{
 "cells": [
  {
   "cell_type": "markdown",
   "metadata": {},
   "source": [
    "# ETL Data with Python Project: Analyze User Behavior on TV and Digital Content Apps\n",
    "\n",
    "## Raw data\n",
    "This project involved developing an ETL pipeline using Python to analyze user behavior data from a TV viewing and digital content app. The raw data, stored in JSON format (approximately 4.5 million lines per file), was spread across four folders representing four days of user activity.\n",
    "(However, I will analyze with the data lite version (first 1,000,000 rows of data) due to computer hardware limitations.)\n",
    "\n",
    "<b> 1. Read data from source <b> <br>\n",
    "<b> 2. Aggregate data <b> <br>\n",
    "<b> 3. Merge for final OLAP output <b> <br>\n",
    "<b> 4. EDA , Visualize <b> <br>\n",
    "<b> 5. Import data to database / Export to excel <b> "
   ]
  },
  {
   "cell_type": "code",
   "execution_count": 35,
   "metadata": {},
   "outputs": [],
   "source": [
    "import pandas as pd \n",
    "import seaborn as sns \n",
    "import matplotlib.pyplot as plt \n",
    "import os \n",
    "import datetime as dt"
   ]
  },
  {
   "cell_type": "markdown",
   "metadata": {},
   "source": [
    "# Explore data folder"
   ]
  },
  {
   "cell_type": "code",
   "execution_count": 19,
   "metadata": {},
   "outputs": [
    {
     "data": {
      "text/plain": [
       "['20230126', '20230127', '20230128', '20230129']"
      ]
     },
     "execution_count": 19,
     "metadata": {},
     "output_type": "execute_result"
    }
   ],
   "source": [
    "path = 'C:\\\\Users\\\\letha\\\\OneDrive - vn3nh\\\\Github\\\\DataProject\\\\ETL Data with Python - FPT user behavior\\\\Data\\\\'\n",
    "os.listdir(path)"
   ]
  },
  {
   "cell_type": "markdown",
   "metadata": {},
   "source": [
    "There are 4 folder data for 4 days, from 26-01-2023 to 29-01-2023"
   ]
  },
  {
   "cell_type": "markdown",
   "metadata": {},
   "source": [
    "# Understanding data"
   ]
  },
  {
   "cell_type": "code",
   "execution_count": 5,
   "metadata": {},
   "outputs": [
    {
     "data": {
      "text/plain": [
       "'C:\\\\Users\\\\letha\\\\OneDrive - vn3nh\\\\Github\\\\DataProject\\\\ETL Data with Python - FPT user behavior\\\\Data\\\\20230129\\\\data_lite.csv'"
      ]
     },
     "execution_count": 5,
     "metadata": {},
     "output_type": "execute_result"
    }
   ],
   "source": [
    "# df = pd.read_json(path+os.listdir(path)[3]+'//data.json',lines=True) # read raw data JSON file\n",
    "file_path = path+'\\\\'+os.listdir(path)[3]+'\\\\data_lite.csv' # date lite version\n",
    "file_path"
   ]
  },
  {
   "cell_type": "code",
   "execution_count": 7,
   "metadata": {},
   "outputs": [],
   "source": [
    "df = pd.read_csv(file_path)\n"
   ]
  },
  {
   "cell_type": "code",
   "execution_count": 8,
   "metadata": {},
   "outputs": [
    {
     "data": {
      "text/html": [
       "<div>\n",
       "<style scoped>\n",
       "    .dataframe tbody tr th:only-of-type {\n",
       "        vertical-align: middle;\n",
       "    }\n",
       "\n",
       "    .dataframe tbody tr th {\n",
       "        vertical-align: top;\n",
       "    }\n",
       "\n",
       "    .dataframe thead th {\n",
       "        text-align: right;\n",
       "    }\n",
       "</style>\n",
       "<table border=\"1\" class=\"dataframe\">\n",
       "  <thead>\n",
       "    <tr style=\"text-align: right;\">\n",
       "      <th></th>\n",
       "      <th>Unnamed: 0</th>\n",
       "      <th>receive_time</th>\n",
       "      <th>device_id</th>\n",
       "      <th>device</th>\n",
       "      <th>device_name</th>\n",
       "      <th>platform</th>\n",
       "      <th>isp</th>\n",
       "      <th>ItemName</th>\n",
       "      <th>ItemId</th>\n",
       "      <th>AppId</th>\n",
       "      <th>Event</th>\n",
       "    </tr>\n",
       "  </thead>\n",
       "  <tbody>\n",
       "    <tr>\n",
       "      <th>0</th>\n",
       "      <td>0</td>\n",
       "      <td>2023-01-29 19:00:00</td>\n",
       "      <td>D4:CF:F9:A0:D3:81</td>\n",
       "      <td>BoxOTT</td>\n",
       "      <td>SEI500FPT</td>\n",
       "      <td>fplay-ottbox-sei-2020</td>\n",
       "      <td>fpt</td>\n",
       "      <td>Hà Nội - Hải Phòng</td>\n",
       "      <td>the-thao-1</td>\n",
       "      <td>IPTV</td>\n",
       "      <td>StartChannel</td>\n",
       "    </tr>\n",
       "    <tr>\n",
       "      <th>1</th>\n",
       "      <td>1</td>\n",
       "      <td>2023-01-29 19:00:00</td>\n",
       "      <td>d3f8cc063e08f35b</td>\n",
       "      <td>SmartTvAndroid</td>\n",
       "      <td>CASPER</td>\n",
       "      <td>smart-tv-normal</td>\n",
       "      <td>other</td>\n",
       "      <td>Hà Nội - Hải Phòng</td>\n",
       "      <td>the-thao-1</td>\n",
       "      <td>IPTV</td>\n",
       "      <td>StartChannel</td>\n",
       "    </tr>\n",
       "    <tr>\n",
       "      <th>2</th>\n",
       "      <td>2</td>\n",
       "      <td>2023-01-29 19:00:00</td>\n",
       "      <td>D4:CF:F9:A0:20:B0</td>\n",
       "      <td>BoxOTT</td>\n",
       "      <td>SEI500FPT</td>\n",
       "      <td>fplay-ottbox-sei-2020</td>\n",
       "      <td>fpt</td>\n",
       "      <td>Câu Chuyện Về Sấm Và Chớp</td>\n",
       "      <td>63526d33492c03ce16c2d840</td>\n",
       "      <td>home</td>\n",
       "      <td>StartMovie</td>\n",
       "    </tr>\n",
       "    <tr>\n",
       "      <th>3</th>\n",
       "      <td>3</td>\n",
       "      <td>2023-01-29 19:00:00</td>\n",
       "      <td>D97A5C6A-7506-4A9F-AE99-4AA5ABBE2D24</td>\n",
       "      <td>Mobile</td>\n",
       "      <td>iPhone</td>\n",
       "      <td>IOS</td>\n",
       "      <td>viettel</td>\n",
       "      <td>VTV1 HD</td>\n",
       "      <td>vtv1-hd</td>\n",
       "      <td>IPTV</td>\n",
       "      <td>StartChannel</td>\n",
       "    </tr>\n",
       "    <tr>\n",
       "      <th>4</th>\n",
       "      <td>4</td>\n",
       "      <td>2023-01-29 19:00:00</td>\n",
       "      <td>90412fb54a48561d</td>\n",
       "      <td>SmartTvAndroid</td>\n",
       "      <td>UnionTV</td>\n",
       "      <td>smarttv-tcl-android</td>\n",
       "      <td>viettel</td>\n",
       "      <td>VTV5 HD</td>\n",
       "      <td>vtv5-hd</td>\n",
       "      <td>IPTV</td>\n",
       "      <td>StartChannel</td>\n",
       "    </tr>\n",
       "  </tbody>\n",
       "</table>\n",
       "</div>"
      ],
      "text/plain": [
       "   Unnamed: 0         receive_time                             device_id  \\\n",
       "0           0  2023-01-29 19:00:00                     D4:CF:F9:A0:D3:81   \n",
       "1           1  2023-01-29 19:00:00                      d3f8cc063e08f35b   \n",
       "2           2  2023-01-29 19:00:00                     D4:CF:F9:A0:20:B0   \n",
       "3           3  2023-01-29 19:00:00  D97A5C6A-7506-4A9F-AE99-4AA5ABBE2D24   \n",
       "4           4  2023-01-29 19:00:00                      90412fb54a48561d   \n",
       "\n",
       "           device device_name               platform      isp  \\\n",
       "0          BoxOTT   SEI500FPT  fplay-ottbox-sei-2020      fpt   \n",
       "1  SmartTvAndroid      CASPER        smart-tv-normal    other   \n",
       "2          BoxOTT   SEI500FPT  fplay-ottbox-sei-2020      fpt   \n",
       "3          Mobile      iPhone                    IOS  viettel   \n",
       "4  SmartTvAndroid     UnionTV    smarttv-tcl-android  viettel   \n",
       "\n",
       "                    ItemName                    ItemId AppId         Event  \n",
       "0         Hà Nội - Hải Phòng                the-thao-1  IPTV  StartChannel  \n",
       "1         Hà Nội - Hải Phòng                the-thao-1  IPTV  StartChannel  \n",
       "2  Câu Chuyện Về Sấm Và Chớp  63526d33492c03ce16c2d840  home    StartMovie  \n",
       "3                    VTV1 HD                   vtv1-hd  IPTV  StartChannel  \n",
       "4                    VTV5 HD                   vtv5-hd  IPTV  StartChannel  "
      ]
     },
     "execution_count": 8,
     "metadata": {},
     "output_type": "execute_result"
    }
   ],
   "source": [
    "df.head()"
   ]
  },
  {
   "cell_type": "code",
   "execution_count": 26,
   "metadata": {},
   "outputs": [],
   "source": [
    "df.drop(df.columns[[0]], axis=1, inplace=True)"
   ]
  },
  {
   "cell_type": "code",
   "execution_count": 27,
   "metadata": {},
   "outputs": [
    {
     "data": {
      "text/html": [
       "<div>\n",
       "<style scoped>\n",
       "    .dataframe tbody tr th:only-of-type {\n",
       "        vertical-align: middle;\n",
       "    }\n",
       "\n",
       "    .dataframe tbody tr th {\n",
       "        vertical-align: top;\n",
       "    }\n",
       "\n",
       "    .dataframe thead th {\n",
       "        text-align: right;\n",
       "    }\n",
       "</style>\n",
       "<table border=\"1\" class=\"dataframe\">\n",
       "  <thead>\n",
       "    <tr style=\"text-align: right;\">\n",
       "      <th></th>\n",
       "      <th>receive_time</th>\n",
       "      <th>device_id</th>\n",
       "      <th>device</th>\n",
       "      <th>device_name</th>\n",
       "      <th>platform</th>\n",
       "      <th>isp</th>\n",
       "      <th>ItemName</th>\n",
       "      <th>ItemId</th>\n",
       "      <th>AppId</th>\n",
       "      <th>Event</th>\n",
       "    </tr>\n",
       "  </thead>\n",
       "  <tbody>\n",
       "    <tr>\n",
       "      <th>0</th>\n",
       "      <td>2023-01-29 19:00:00</td>\n",
       "      <td>D4:CF:F9:A0:D3:81</td>\n",
       "      <td>BoxOTT</td>\n",
       "      <td>SEI500FPT</td>\n",
       "      <td>fplay-ottbox-sei-2020</td>\n",
       "      <td>fpt</td>\n",
       "      <td>Hà Nội - Hải Phòng</td>\n",
       "      <td>the-thao-1</td>\n",
       "      <td>IPTV</td>\n",
       "      <td>StartChannel</td>\n",
       "    </tr>\n",
       "    <tr>\n",
       "      <th>1</th>\n",
       "      <td>2023-01-29 19:00:00</td>\n",
       "      <td>d3f8cc063e08f35b</td>\n",
       "      <td>SmartTvAndroid</td>\n",
       "      <td>CASPER</td>\n",
       "      <td>smart-tv-normal</td>\n",
       "      <td>other</td>\n",
       "      <td>Hà Nội - Hải Phòng</td>\n",
       "      <td>the-thao-1</td>\n",
       "      <td>IPTV</td>\n",
       "      <td>StartChannel</td>\n",
       "    </tr>\n",
       "    <tr>\n",
       "      <th>2</th>\n",
       "      <td>2023-01-29 19:00:00</td>\n",
       "      <td>D4:CF:F9:A0:20:B0</td>\n",
       "      <td>BoxOTT</td>\n",
       "      <td>SEI500FPT</td>\n",
       "      <td>fplay-ottbox-sei-2020</td>\n",
       "      <td>fpt</td>\n",
       "      <td>Câu Chuyện Về Sấm Và Chớp</td>\n",
       "      <td>63526d33492c03ce16c2d840</td>\n",
       "      <td>home</td>\n",
       "      <td>StartMovie</td>\n",
       "    </tr>\n",
       "    <tr>\n",
       "      <th>3</th>\n",
       "      <td>2023-01-29 19:00:00</td>\n",
       "      <td>D97A5C6A-7506-4A9F-AE99-4AA5ABBE2D24</td>\n",
       "      <td>Mobile</td>\n",
       "      <td>iPhone</td>\n",
       "      <td>IOS</td>\n",
       "      <td>viettel</td>\n",
       "      <td>VTV1 HD</td>\n",
       "      <td>vtv1-hd</td>\n",
       "      <td>IPTV</td>\n",
       "      <td>StartChannel</td>\n",
       "    </tr>\n",
       "    <tr>\n",
       "      <th>4</th>\n",
       "      <td>2023-01-29 19:00:00</td>\n",
       "      <td>90412fb54a48561d</td>\n",
       "      <td>SmartTvAndroid</td>\n",
       "      <td>UnionTV</td>\n",
       "      <td>smarttv-tcl-android</td>\n",
       "      <td>viettel</td>\n",
       "      <td>VTV5 HD</td>\n",
       "      <td>vtv5-hd</td>\n",
       "      <td>IPTV</td>\n",
       "      <td>StartChannel</td>\n",
       "    </tr>\n",
       "  </tbody>\n",
       "</table>\n",
       "</div>"
      ],
      "text/plain": [
       "          receive_time                             device_id          device  \\\n",
       "0  2023-01-29 19:00:00                     D4:CF:F9:A0:D3:81          BoxOTT   \n",
       "1  2023-01-29 19:00:00                      d3f8cc063e08f35b  SmartTvAndroid   \n",
       "2  2023-01-29 19:00:00                     D4:CF:F9:A0:20:B0          BoxOTT   \n",
       "3  2023-01-29 19:00:00  D97A5C6A-7506-4A9F-AE99-4AA5ABBE2D24          Mobile   \n",
       "4  2023-01-29 19:00:00                      90412fb54a48561d  SmartTvAndroid   \n",
       "\n",
       "  device_name               platform      isp                   ItemName  \\\n",
       "0   SEI500FPT  fplay-ottbox-sei-2020      fpt         Hà Nội - Hải Phòng   \n",
       "1      CASPER        smart-tv-normal    other         Hà Nội - Hải Phòng   \n",
       "2   SEI500FPT  fplay-ottbox-sei-2020      fpt  Câu Chuyện Về Sấm Và Chớp   \n",
       "3      iPhone                    IOS  viettel                    VTV1 HD   \n",
       "4     UnionTV    smarttv-tcl-android  viettel                    VTV5 HD   \n",
       "\n",
       "                     ItemId AppId         Event  \n",
       "0                the-thao-1  IPTV  StartChannel  \n",
       "1                the-thao-1  IPTV  StartChannel  \n",
       "2  63526d33492c03ce16c2d840  home    StartMovie  \n",
       "3                   vtv1-hd  IPTV  StartChannel  \n",
       "4                   vtv5-hd  IPTV  StartChannel  "
      ]
     },
     "execution_count": 27,
     "metadata": {},
     "output_type": "execute_result"
    }
   ],
   "source": [
    "df.head()"
   ]
  },
  {
   "cell_type": "code",
   "execution_count": 28,
   "metadata": {},
   "outputs": [
    {
     "data": {
      "text/plain": [
       "receive_time    object\n",
       "device_id       object\n",
       "device          object\n",
       "device_name     object\n",
       "platform        object\n",
       "isp             object\n",
       "ItemName        object\n",
       "ItemId          object\n",
       "AppId           object\n",
       "Event           object\n",
       "dtype: object"
      ]
     },
     "execution_count": 28,
     "metadata": {},
     "output_type": "execute_result"
    }
   ],
   "source": [
    "df.dtypes"
   ]
  },
  {
   "cell_type": "code",
   "execution_count": 29,
   "metadata": {},
   "outputs": [
    {
     "data": {
      "text/plain": [
       "receive_time    1000000\n",
       "device_id        999951\n",
       "device          1000000\n",
       "device_name     1000000\n",
       "platform         999999\n",
       "isp             1000000\n",
       "ItemName         999715\n",
       "ItemId           999335\n",
       "AppId            985852\n",
       "Event           1000000\n",
       "dtype: int64"
      ]
     },
     "execution_count": 29,
     "metadata": {},
     "output_type": "execute_result"
    }
   ],
   "source": [
    "df.count()"
   ]
  },
  {
   "cell_type": "code",
   "execution_count": 34,
   "metadata": {},
   "outputs": [
    {
     "name": "stdout",
     "output_type": "stream",
     "text": [
      "receive_time        0\n",
      "device_id          49\n",
      "device              0\n",
      "device_name         0\n",
      "platform            1\n",
      "isp                 0\n",
      "ItemName          285\n",
      "ItemId            665\n",
      "AppId           14148\n",
      "Event               0\n",
      "dtype: int64\n"
     ]
    }
   ],
   "source": [
    "print(df.isnull().sum())"
   ]
  },
  {
   "cell_type": "code",
   "execution_count": 36,
   "metadata": {},
   "outputs": [
    {
     "name": "stdout",
     "output_type": "stream",
     "text": [
      "Checking column  receive_time\n",
      "9482\n",
      "['2023-01-29 19:00:00' '2023-01-29 19:00:01' '2023-01-29 19:00:02' ...\n",
      " '2023-01-29 18:00:56' '2023-01-29 18:00:57' '2023-01-29 18:00:58']\n",
      "Checking column  device_id\n",
      "225293\n",
      "['D4:CF:F9:A0:D3:81' 'd3f8cc063e08f35b' 'D4:CF:F9:A0:20:B0' ...\n",
      " 'D4:CF:F9:93:27:BC' 'D4:CF:F9:93:11:04' 'D4:CF:F9:92:E5:99']\n",
      "Checking column  device\n",
      "5\n",
      "['BoxOTT' 'SmartTvAndroid' 'Mobile' 'SmartTV' 'WebOS']\n",
      "Checking column  device_name\n",
      "4566\n",
      "['SEI500FPT' 'CASPER' 'iPhone' ... 'iPhone của ' 'Aland'\n",
      " 'Pham-Viet’s iPhone']\n",
      "Checking column  platform\n",
      "22\n",
      "['fplay-ottbox-sei-2020' 'smart-tv-normal' 'IOS' 'smarttv-tcl-android'\n",
      " 'smarttv-ss-nextgen' 'smarttv-lg-nextgen' 'Android - Normal'\n",
      " 'fplay-ottbox-hisense-2022' 'fplay-ottbox-sei-2021'\n",
      " 'smarttv-sony-android' 'fplay-ottbox-sdmc-2020'\n",
      " 'skyworth-smarttv-android' 'Windows' 'macOS' 'smart-tv-normal-no-drm'\n",
      " 'vsmart' 'fplay-ottbox-sei-2022' 'fplay-gr-android-box'\n",
      " 'smarttv-pana-android' 'Linux' 'Chrome OS' 'Tizen' nan]\n",
      "Checking column  isp\n",
      "5\n",
      "['fpt' 'other' 'viettel' 'vnpt' 'spt']\n",
      "Checking column  ItemName\n",
      "10951\n",
      "['Hà Nội - Hải Phòng' 'Câu Chuyện Về Sấm Và Chớp' 'VTV1 HD' ... 'Đêm Lạnh'\n",
      " 'Bạch Ngọc Nhớ Vô Hà - Tập 28'\n",
      " 'Nữ Philippines - Nữ Indonesia | Bóng rổ 5x5']\n",
      "Checking column  ItemId\n",
      "5861\n",
      "['the-thao-1' '63526d33492c03ce16c2d840' 'vtv1-hd' ...\n",
      " '634527b42089bd02862dc981' '639acb37a05b7e07deaa4e1c'\n",
      " '6281ed322089bd06a76e6316']\n",
      "Checking column  AppId\n",
      "84\n",
      "['IPTV' 'home' 'channel' 'SEARCH' nan 'sport' 'anime' 'children' 'series'\n",
      " '5587c83b17dc1353a3624a22' '55701c1517dc1321ee85857a' 'phim_le' 'HOME'\n",
      " 'hbogo' 'event' 'entertainment' '4k' '5841452d17dc130a9ab827d4'\n",
      " '591408a2558320658eb88e48' 'music' 'VodPlayerScreen'\n",
      " 'com.google.android.youtube.tv' '72' '67' '71' '54fd271917dc136162a0cf2d'\n",
      " 'vtv.smart.tv' 'EventPlayerScreen' 'tet' '69' 'app'\n",
      " '635fa8ff2089bd0294e70cd6' 'study' 'remote.iWatchDVR.Vantech' 'pladio'\n",
      " '5ce3a3ac2089bd09d95364d2' 'com.FDGEntertainment.redball4.gp'\n",
      " '5d4b92bd2089bd01bf5a5898' 'com.viettel.tv360.tv' 'com.android.vending'\n",
      " 'com.google.android.videos' '52847232169a585a2449c48c' '68'\n",
      " 'Bamboo Airways' '5e7c66802089bd015f06ce6d'\n",
      " 'com.google.android.youtube.tvmusic' 'Vietjet Air'\n",
      " 'rogo.iot.app.tv.playrogotv' '70' 'vn.vtv.vtvgotv' 'VodDetailScreen'\n",
      " 'com.cloudmosa.puffinTV' 'PAYMENT' 'vn.mytvnet.b2cott' 'Vietnam Airlines'\n",
      " 'com.abcplay.app.androidtv' '56f3565e17dc132d3618408f' 'NOTIFICATION'\n",
      " 'com.mm.android.direct.KBVISIONLite' 'com.bda.shoppingtv'\n",
      " 'com.google.android.play.games' 'com.astepanov.mobile.mathforkids'\n",
      " '625651192089bd227faefdc6' 'com.tcl.browser' 'net.fptplay.ottbox'\n",
      " 'com.teamsmart.videomanager.tv' 'com.vectorunit.purple.googleplay'\n",
      " 'com.hikvision.hikconnect' 'com.vieon.tv' 'com.sdmc.boxsettings'\n",
      " 'us.zoom.videomeetings' 'com.android.chrome' 'ACCOUNT' 'PhoneNumber'\n",
      " 'vn.fpt.camera.fplay' 'com.stremio.one' 'com.panasonic.psn.android.nwcam'\n",
      " 'com.zwcode.vantech' 'com.mm.android.direct.gdmsspadLite'\n",
      " 'com.goodtoolapps.zeus' 'com.educastudio.marbelhuruf' 'com.iqiyi.i18n.tv'\n",
      " 'com.hyperkani.bomberfriends' 'LivePlayerScreen'\n",
      " 'com.aospstudio.tvsearch']\n",
      "Checking column  Event\n",
      "8\n",
      "['StartChannel' 'StartMovie' 'StartLiveShow' 'NextMovie' 'StartTrailer'\n",
      " 'PrviousMovie' 'PreviousMovie' 'NextTrailer']\n"
     ]
    }
   ],
   "source": [
    "for i in df.columns:\n",
    "    print(\"Checking column \",i)\n",
    "    print(df[i].nunique())\n",
    "    print(df[i].unique())"
   ]
  }
 ],
 "metadata": {
  "kernelspec": {
   "display_name": "Python 3",
   "language": "python",
   "name": "python3"
  },
  "language_info": {
   "codemirror_mode": {
    "name": "ipython",
    "version": 3
   },
   "file_extension": ".py",
   "mimetype": "text/x-python",
   "name": "python",
   "nbconvert_exporter": "python",
   "pygments_lexer": "ipython3",
   "version": "3.11.7"
  }
 },
 "nbformat": 4,
 "nbformat_minor": 2
}
