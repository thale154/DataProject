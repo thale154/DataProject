{
 "cells": [
  {
   "cell_type": "code",
   "execution_count": 115,
   "metadata": {},
   "outputs": [],
   "source": [
    "# Import thu vien\n",
    "import pandas as pd\n",
    "import numpy as np\n",
    "import seaborn as sns\n",
    "import matplotlib.pyplot as plt\n",
    "import datetime"
   ]
  },
  {
   "cell_type": "code",
   "execution_count": 116,
   "metadata": {},
   "outputs": [],
   "source": [
    "# doc file csv Customer_Transaction\n",
    "df = pd.read_csv(\"raw_data\\Customer_Transaction.csv\")"
   ]
  },
  {
   "cell_type": "code",
   "execution_count": 117,
   "metadata": {},
   "outputs": [
    {
     "data": {
      "text/html": [
       "<div>\n",
       "<style scoped>\n",
       "    .dataframe tbody tr th:only-of-type {\n",
       "        vertical-align: middle;\n",
       "    }\n",
       "\n",
       "    .dataframe tbody tr th {\n",
       "        vertical-align: top;\n",
       "    }\n",
       "\n",
       "    .dataframe thead th {\n",
       "        text-align: right;\n",
       "    }\n",
       "</style>\n",
       "<table border=\"1\" class=\"dataframe\">\n",
       "  <thead>\n",
       "    <tr style=\"text-align: right;\">\n",
       "      <th></th>\n",
       "      <th>ID</th>\n",
       "      <th>CustomerID</th>\n",
       "      <th>Purchase_Date</th>\n",
       "      <th>GMV</th>\n",
       "    </tr>\n",
       "  </thead>\n",
       "  <tbody>\n",
       "    <tr>\n",
       "      <th>0</th>\n",
       "      <td>0</td>\n",
       "      <td>1327813</td>\n",
       "      <td>2022-06-01 00:00:00.000</td>\n",
       "      <td>95000</td>\n",
       "    </tr>\n",
       "    <tr>\n",
       "      <th>1</th>\n",
       "      <td>1</td>\n",
       "      <td>1157830</td>\n",
       "      <td>2022-06-01 00:00:00.000</td>\n",
       "      <td>75000</td>\n",
       "    </tr>\n",
       "    <tr>\n",
       "      <th>2</th>\n",
       "      <td>2</td>\n",
       "      <td>873915</td>\n",
       "      <td>2022-07-01 00:00:00.000</td>\n",
       "      <td>95000</td>\n",
       "    </tr>\n",
       "    <tr>\n",
       "      <th>3</th>\n",
       "      <td>3</td>\n",
       "      <td>3505071</td>\n",
       "      <td>2022-07-01 00:00:00.000</td>\n",
       "      <td>90000</td>\n",
       "    </tr>\n",
       "    <tr>\n",
       "      <th>4</th>\n",
       "      <td>4</td>\n",
       "      <td>2930918</td>\n",
       "      <td>2022-07-01 00:00:00.000</td>\n",
       "      <td>109091</td>\n",
       "    </tr>\n",
       "  </tbody>\n",
       "</table>\n",
       "</div>"
      ],
      "text/plain": [
       "   ID  CustomerID            Purchase_Date     GMV\n",
       "0   0     1327813  2022-06-01 00:00:00.000   95000\n",
       "1   1     1157830  2022-06-01 00:00:00.000   75000\n",
       "2   2      873915  2022-07-01 00:00:00.000   95000\n",
       "3   3     3505071  2022-07-01 00:00:00.000   90000\n",
       "4   4     2930918  2022-07-01 00:00:00.000  109091"
      ]
     },
     "execution_count": 117,
     "metadata": {},
     "output_type": "execute_result"
    }
   ],
   "source": [
    "df.head()"
   ]
  },
  {
   "cell_type": "code",
   "execution_count": 118,
   "metadata": {},
   "outputs": [
    {
     "data": {
      "text/plain": [
       "ID               1048575\n",
       "CustomerID       1048575\n",
       "Purchase_Date    1048575\n",
       "GMV              1048575\n",
       "dtype: int64"
      ]
     },
     "execution_count": 118,
     "metadata": {},
     "output_type": "execute_result"
    }
   ],
   "source": [
    "# tong cac gia tri khong NaN trong tung cot\n",
    "df.count()"
   ]
  },
  {
   "cell_type": "code",
   "execution_count": 119,
   "metadata": {},
   "outputs": [
    {
     "data": {
      "text/plain": [
       "ID                int64\n",
       "CustomerID        int64\n",
       "Purchase_Date    object\n",
       "GMV               int64\n",
       "dtype: object"
      ]
     },
     "execution_count": 119,
     "metadata": {},
     "output_type": "execute_result"
    }
   ],
   "source": [
    "# loai du lieu cac cot\n",
    "df.dtypes"
   ]
  },
  {
   "cell_type": "code",
   "execution_count": 120,
   "metadata": {},
   "outputs": [],
   "source": [
    "# Chuyen type cua Purchase_Date sang date\n",
    "df['Purchase_Date'] =  pd.to_datetime(df['Purchase_Date'], format='%Y-%m-%d %H:%M:%S.%f')"
   ]
  },
  {
   "cell_type": "code",
   "execution_count": 121,
   "metadata": {},
   "outputs": [
    {
     "data": {
      "text/plain": [
       "ID                        int64\n",
       "CustomerID                int64\n",
       "Purchase_Date    datetime64[ns]\n",
       "GMV                       int64\n",
       "dtype: object"
      ]
     },
     "execution_count": 121,
     "metadata": {},
     "output_type": "execute_result"
    }
   ],
   "source": [
    "df.dtypes"
   ]
  },
  {
   "cell_type": "code",
   "execution_count": 122,
   "metadata": {},
   "outputs": [
    {
     "data": {
      "text/html": [
       "<div>\n",
       "<style scoped>\n",
       "    .dataframe tbody tr th:only-of-type {\n",
       "        vertical-align: middle;\n",
       "    }\n",
       "\n",
       "    .dataframe tbody tr th {\n",
       "        vertical-align: top;\n",
       "    }\n",
       "\n",
       "    .dataframe thead th {\n",
       "        text-align: right;\n",
       "    }\n",
       "</style>\n",
       "<table border=\"1\" class=\"dataframe\">\n",
       "  <thead>\n",
       "    <tr style=\"text-align: right;\">\n",
       "      <th></th>\n",
       "      <th>ID</th>\n",
       "      <th>CustomerID</th>\n",
       "      <th>Purchase_Date</th>\n",
       "      <th>GMV</th>\n",
       "    </tr>\n",
       "  </thead>\n",
       "  <tbody>\n",
       "    <tr>\n",
       "      <th>1048570</th>\n",
       "      <td>1048570</td>\n",
       "      <td>4127818</td>\n",
       "      <td>2022-06-01</td>\n",
       "      <td>70000</td>\n",
       "    </tr>\n",
       "    <tr>\n",
       "      <th>1048571</th>\n",
       "      <td>1048571</td>\n",
       "      <td>1987234</td>\n",
       "      <td>2022-07-01</td>\n",
       "      <td>75000</td>\n",
       "    </tr>\n",
       "    <tr>\n",
       "      <th>1048572</th>\n",
       "      <td>1048572</td>\n",
       "      <td>3283899</td>\n",
       "      <td>2022-07-01</td>\n",
       "      <td>70000</td>\n",
       "    </tr>\n",
       "    <tr>\n",
       "      <th>1048573</th>\n",
       "      <td>1048573</td>\n",
       "      <td>3985289</td>\n",
       "      <td>2022-07-01</td>\n",
       "      <td>70000</td>\n",
       "    </tr>\n",
       "    <tr>\n",
       "      <th>1048574</th>\n",
       "      <td>1048574</td>\n",
       "      <td>3189801</td>\n",
       "      <td>2022-07-28</td>\n",
       "      <td>0</td>\n",
       "    </tr>\n",
       "  </tbody>\n",
       "</table>\n",
       "</div>"
      ],
      "text/plain": [
       "              ID  CustomerID Purchase_Date    GMV\n",
       "1048570  1048570     4127818    2022-06-01  70000\n",
       "1048571  1048571     1987234    2022-07-01  75000\n",
       "1048572  1048572     3283899    2022-07-01  70000\n",
       "1048573  1048573     3985289    2022-07-01  70000\n",
       "1048574  1048574     3189801    2022-07-28      0"
      ]
     },
     "execution_count": 122,
     "metadata": {},
     "output_type": "execute_result"
    }
   ],
   "source": [
    "df.tail()"
   ]
  },
  {
   "cell_type": "code",
   "execution_count": 123,
   "metadata": {},
   "outputs": [
    {
     "data": {
      "text/html": [
       "<div>\n",
       "<style scoped>\n",
       "    .dataframe tbody tr th:only-of-type {\n",
       "        vertical-align: middle;\n",
       "    }\n",
       "\n",
       "    .dataframe tbody tr th {\n",
       "        vertical-align: top;\n",
       "    }\n",
       "\n",
       "    .dataframe thead th {\n",
       "        text-align: right;\n",
       "    }\n",
       "</style>\n",
       "<table border=\"1\" class=\"dataframe\">\n",
       "  <thead>\n",
       "    <tr style=\"text-align: right;\">\n",
       "      <th></th>\n",
       "      <th>ID</th>\n",
       "      <th>CustomerID</th>\n",
       "      <th>Purchase_Date</th>\n",
       "      <th>GMV</th>\n",
       "    </tr>\n",
       "  </thead>\n",
       "  <tbody>\n",
       "    <tr>\n",
       "      <th>count</th>\n",
       "      <td>1.048575e+06</td>\n",
       "      <td>1.048575e+06</td>\n",
       "      <td>1048575</td>\n",
       "      <td>1.048575e+06</td>\n",
       "    </tr>\n",
       "    <tr>\n",
       "      <th>mean</th>\n",
       "      <td>5.242870e+05</td>\n",
       "      <td>2.615855e+06</td>\n",
       "      <td>2022-07-02 05:01:30.297403904</td>\n",
       "      <td>7.892864e+04</td>\n",
       "    </tr>\n",
       "    <tr>\n",
       "      <th>min</th>\n",
       "      <td>0.000000e+00</td>\n",
       "      <td>0.000000e+00</td>\n",
       "      <td>2022-06-01 00:00:00</td>\n",
       "      <td>0.000000e+00</td>\n",
       "    </tr>\n",
       "    <tr>\n",
       "      <th>25%</th>\n",
       "      <td>2.621435e+05</td>\n",
       "      <td>1.713096e+06</td>\n",
       "      <td>2022-06-01 00:00:00</td>\n",
       "      <td>7.000000e+04</td>\n",
       "    </tr>\n",
       "    <tr>\n",
       "      <th>50%</th>\n",
       "      <td>5.242870e+05</td>\n",
       "      <td>2.780590e+06</td>\n",
       "      <td>2022-07-01 00:00:00</td>\n",
       "      <td>7.500000e+04</td>\n",
       "    </tr>\n",
       "    <tr>\n",
       "      <th>75%</th>\n",
       "      <td>7.864305e+05</td>\n",
       "      <td>3.604265e+06</td>\n",
       "      <td>2022-08-01 00:00:00</td>\n",
       "      <td>9.500000e+04</td>\n",
       "    </tr>\n",
       "    <tr>\n",
       "      <th>max</th>\n",
       "      <td>1.048574e+06</td>\n",
       "      <td>4.392919e+06</td>\n",
       "      <td>2022-08-31 00:00:00</td>\n",
       "      <td>8.400000e+06</td>\n",
       "    </tr>\n",
       "    <tr>\n",
       "      <th>std</th>\n",
       "      <td>3.026977e+05</td>\n",
       "      <td>1.142409e+06</td>\n",
       "      <td>NaN</td>\n",
       "      <td>2.365348e+04</td>\n",
       "    </tr>\n",
       "  </tbody>\n",
       "</table>\n",
       "</div>"
      ],
      "text/plain": [
       "                 ID    CustomerID                  Purchase_Date           GMV\n",
       "count  1.048575e+06  1.048575e+06                        1048575  1.048575e+06\n",
       "mean   5.242870e+05  2.615855e+06  2022-07-02 05:01:30.297403904  7.892864e+04\n",
       "min    0.000000e+00  0.000000e+00            2022-06-01 00:00:00  0.000000e+00\n",
       "25%    2.621435e+05  1.713096e+06            2022-06-01 00:00:00  7.000000e+04\n",
       "50%    5.242870e+05  2.780590e+06            2022-07-01 00:00:00  7.500000e+04\n",
       "75%    7.864305e+05  3.604265e+06            2022-08-01 00:00:00  9.500000e+04\n",
       "max    1.048574e+06  4.392919e+06            2022-08-31 00:00:00  8.400000e+06\n",
       "std    3.026977e+05  1.142409e+06                            NaN  2.365348e+04"
      ]
     },
     "execution_count": 123,
     "metadata": {},
     "output_type": "execute_result"
    }
   ],
   "source": [
    "df.describe()"
   ]
  },
  {
   "cell_type": "code",
   "execution_count": 124,
   "metadata": {},
   "outputs": [
    {
     "name": "stderr",
     "output_type": "stream",
     "text": [
      "C:\\Users\\letha\\AppData\\Local\\Temp\\ipykernel_16808\\3498133713.py:2: UserWarning: Boolean Series key will be reindexed to match DataFrame index.\n",
      "  df = df[df['CustomerID'] != 0][df['GMV'] > 0]\n"
     ]
    }
   ],
   "source": [
    "# bo CustomerID = 0\n",
    "df = df[df['CustomerID'] != 0][df['GMV'] > 0]"
   ]
  },
  {
   "cell_type": "code",
   "execution_count": 125,
   "metadata": {},
   "outputs": [
    {
     "data": {
      "text/html": [
       "<div>\n",
       "<style scoped>\n",
       "    .dataframe tbody tr th:only-of-type {\n",
       "        vertical-align: middle;\n",
       "    }\n",
       "\n",
       "    .dataframe tbody tr th {\n",
       "        vertical-align: top;\n",
       "    }\n",
       "\n",
       "    .dataframe thead th {\n",
       "        text-align: right;\n",
       "    }\n",
       "</style>\n",
       "<table border=\"1\" class=\"dataframe\">\n",
       "  <thead>\n",
       "    <tr style=\"text-align: right;\">\n",
       "      <th></th>\n",
       "      <th>ID</th>\n",
       "      <th>CustomerID</th>\n",
       "      <th>Purchase_Date</th>\n",
       "      <th>GMV</th>\n",
       "    </tr>\n",
       "  </thead>\n",
       "  <tbody>\n",
       "    <tr>\n",
       "      <th>count</th>\n",
       "      <td>1.040158e+06</td>\n",
       "      <td>1.040158e+06</td>\n",
       "      <td>1040158</td>\n",
       "      <td>1.040158e+06</td>\n",
       "    </tr>\n",
       "    <tr>\n",
       "      <th>mean</th>\n",
       "      <td>5.242571e+05</td>\n",
       "      <td>2.610880e+06</td>\n",
       "      <td>2022-07-02 04:43:41.370984704</td>\n",
       "      <td>7.956695e+04</td>\n",
       "    </tr>\n",
       "    <tr>\n",
       "      <th>min</th>\n",
       "      <td>0.000000e+00</td>\n",
       "      <td>7.173900e+04</td>\n",
       "      <td>2022-06-01 00:00:00</td>\n",
       "      <td>2.420000e+02</td>\n",
       "    </tr>\n",
       "    <tr>\n",
       "      <th>25%</th>\n",
       "      <td>2.621022e+05</td>\n",
       "      <td>1.707394e+06</td>\n",
       "      <td>2022-06-01 00:00:00</td>\n",
       "      <td>7.000000e+04</td>\n",
       "    </tr>\n",
       "    <tr>\n",
       "      <th>50%</th>\n",
       "      <td>5.242525e+05</td>\n",
       "      <td>2.770588e+06</td>\n",
       "      <td>2022-07-01 00:00:00</td>\n",
       "      <td>7.500000e+04</td>\n",
       "    </tr>\n",
       "    <tr>\n",
       "      <th>75%</th>\n",
       "      <td>7.864028e+05</td>\n",
       "      <td>3.596549e+06</td>\n",
       "      <td>2022-08-01 00:00:00</td>\n",
       "      <td>9.500000e+04</td>\n",
       "    </tr>\n",
       "    <tr>\n",
       "      <th>max</th>\n",
       "      <td>1.048573e+06</td>\n",
       "      <td>4.392919e+06</td>\n",
       "      <td>2022-08-31 00:00:00</td>\n",
       "      <td>8.400000e+06</td>\n",
       "    </tr>\n",
       "    <tr>\n",
       "      <th>std</th>\n",
       "      <td>3.026993e+05</td>\n",
       "      <td>1.142413e+06</td>\n",
       "      <td>NaN</td>\n",
       "      <td>2.265503e+04</td>\n",
       "    </tr>\n",
       "  </tbody>\n",
       "</table>\n",
       "</div>"
      ],
      "text/plain": [
       "                 ID    CustomerID                  Purchase_Date           GMV\n",
       "count  1.040158e+06  1.040158e+06                        1040158  1.040158e+06\n",
       "mean   5.242571e+05  2.610880e+06  2022-07-02 04:43:41.370984704  7.956695e+04\n",
       "min    0.000000e+00  7.173900e+04            2022-06-01 00:00:00  2.420000e+02\n",
       "25%    2.621022e+05  1.707394e+06            2022-06-01 00:00:00  7.000000e+04\n",
       "50%    5.242525e+05  2.770588e+06            2022-07-01 00:00:00  7.500000e+04\n",
       "75%    7.864028e+05  3.596549e+06            2022-08-01 00:00:00  9.500000e+04\n",
       "max    1.048573e+06  4.392919e+06            2022-08-31 00:00:00  8.400000e+06\n",
       "std    3.026993e+05  1.142413e+06                            NaN  2.265503e+04"
      ]
     },
     "execution_count": 125,
     "metadata": {},
     "output_type": "execute_result"
    }
   ],
   "source": [
    "df.describe()"
   ]
  },
  {
   "cell_type": "code",
   "execution_count": 126,
   "metadata": {},
   "outputs": [],
   "source": [
    "# doc file csv Customer_Registered\n",
    "#df_r = pd.read_csv(\"raw_data\\Customer_Registered.csv\")"
   ]
  },
  {
   "cell_type": "code",
   "execution_count": 127,
   "metadata": {},
   "outputs": [],
   "source": [
    "#df_r.head()"
   ]
  },
  {
   "cell_type": "code",
   "execution_count": 128,
   "metadata": {},
   "outputs": [],
   "source": [
    "#df_r.describe()"
   ]
  },
  {
   "cell_type": "code",
   "execution_count": 129,
   "metadata": {},
   "outputs": [],
   "source": [
    "# Chuyen type cua created_date sang date\n",
    "#df_r['created_date'] =  pd.to_datetime(df_r['created_date'], format='%Y-%m-%d %H:%M:%S.%f')"
   ]
  },
  {
   "cell_type": "code",
   "execution_count": 130,
   "metadata": {},
   "outputs": [],
   "source": [
    "#df_r.dtypes"
   ]
  },
  {
   "cell_type": "code",
   "execution_count": 131,
   "metadata": {},
   "outputs": [],
   "source": [
    "# Inner join on CustomerID\n",
    "#joined_df = pd.merge(left=df, right=df_r, left_on='CustomerID', right_on='ID', how='inner')"
   ]
  },
  {
   "cell_type": "code",
   "execution_count": 132,
   "metadata": {},
   "outputs": [],
   "source": [
    "#joined_df.head()"
   ]
  },
  {
   "cell_type": "code",
   "execution_count": 133,
   "metadata": {},
   "outputs": [],
   "source": [
    "# lay ngay lon nhat trong Purchase_Date + 1 -> de tinh Recency\n",
    "current_date = max(df['Purchase_Date']) + datetime.timedelta(days=1)\n",
    "\n",
    "# Group by CustomerID de tinh R, F, M\n",
    "df_customer = df.groupby(['CustomerID']).agg(\n",
    "    {'Purchase_Date': lambda x: (current_date- x.max()).days, # ngay mua gan nhat\n",
    "     'ID':'count', # so lan mua\n",
    "     'GMV':'sum' # tong gia tri mua hang\n",
    "    }\n",
    ")\n"
   ]
  },
  {
   "cell_type": "code",
   "execution_count": 134,
   "metadata": {},
   "outputs": [
    {
     "data": {
      "text/html": [
       "<div>\n",
       "<style scoped>\n",
       "    .dataframe tbody tr th:only-of-type {\n",
       "        vertical-align: middle;\n",
       "    }\n",
       "\n",
       "    .dataframe tbody tr th {\n",
       "        vertical-align: top;\n",
       "    }\n",
       "\n",
       "    .dataframe thead th {\n",
       "        text-align: right;\n",
       "    }\n",
       "</style>\n",
       "<table border=\"1\" class=\"dataframe\">\n",
       "  <thead>\n",
       "    <tr style=\"text-align: right;\">\n",
       "      <th></th>\n",
       "      <th>Purchase_Date</th>\n",
       "      <th>ID</th>\n",
       "      <th>GMV</th>\n",
       "    </tr>\n",
       "    <tr>\n",
       "      <th>CustomerID</th>\n",
       "      <th></th>\n",
       "      <th></th>\n",
       "      <th></th>\n",
       "    </tr>\n",
       "  </thead>\n",
       "  <tbody>\n",
       "    <tr>\n",
       "      <th>71739</th>\n",
       "      <td>62</td>\n",
       "      <td>1</td>\n",
       "      <td>105000</td>\n",
       "    </tr>\n",
       "    <tr>\n",
       "      <th>72014</th>\n",
       "      <td>62</td>\n",
       "      <td>2</td>\n",
       "      <td>254091</td>\n",
       "    </tr>\n",
       "    <tr>\n",
       "      <th>72052</th>\n",
       "      <td>31</td>\n",
       "      <td>1</td>\n",
       "      <td>145000</td>\n",
       "    </tr>\n",
       "    <tr>\n",
       "      <th>72657</th>\n",
       "      <td>62</td>\n",
       "      <td>1</td>\n",
       "      <td>200000</td>\n",
       "    </tr>\n",
       "    <tr>\n",
       "      <th>74549</th>\n",
       "      <td>62</td>\n",
       "      <td>1</td>\n",
       "      <td>125000</td>\n",
       "    </tr>\n",
       "  </tbody>\n",
       "</table>\n",
       "</div>"
      ],
      "text/plain": [
       "            Purchase_Date  ID     GMV\n",
       "CustomerID                           \n",
       "71739                  62   1  105000\n",
       "72014                  62   2  254091\n",
       "72052                  31   1  145000\n",
       "72657                  62   1  200000\n",
       "74549                  62   1  125000"
      ]
     },
     "execution_count": 134,
     "metadata": {},
     "output_type": "execute_result"
    }
   ],
   "source": [
    "df_customer.head()"
   ]
  },
  {
   "cell_type": "code",
   "execution_count": 135,
   "metadata": {},
   "outputs": [],
   "source": [
    "# doi ten cot\n",
    "df_customer.rename(columns={'Purchase_Date':'Recency','ID':'Frequency','GMV':'Monetary'}, inplace=True)"
   ]
  },
  {
   "cell_type": "code",
   "execution_count": 136,
   "metadata": {},
   "outputs": [
    {
     "data": {
      "text/html": [
       "<div>\n",
       "<style scoped>\n",
       "    .dataframe tbody tr th:only-of-type {\n",
       "        vertical-align: middle;\n",
       "    }\n",
       "\n",
       "    .dataframe tbody tr th {\n",
       "        vertical-align: top;\n",
       "    }\n",
       "\n",
       "    .dataframe thead th {\n",
       "        text-align: right;\n",
       "    }\n",
       "</style>\n",
       "<table border=\"1\" class=\"dataframe\">\n",
       "  <thead>\n",
       "    <tr style=\"text-align: right;\">\n",
       "      <th></th>\n",
       "      <th>Recency</th>\n",
       "      <th>Frequency</th>\n",
       "      <th>Monetary</th>\n",
       "    </tr>\n",
       "  </thead>\n",
       "  <tbody>\n",
       "    <tr>\n",
       "      <th>count</th>\n",
       "      <td>936660.000000</td>\n",
       "      <td>936660.000000</td>\n",
       "      <td>9.366600e+05</td>\n",
       "    </tr>\n",
       "    <tr>\n",
       "      <th>mean</th>\n",
       "      <td>60.423782</td>\n",
       "      <td>1.110497</td>\n",
       "      <td>8.835885e+04</td>\n",
       "    </tr>\n",
       "    <tr>\n",
       "      <th>std</th>\n",
       "      <td>26.234584</td>\n",
       "      <td>0.323117</td>\n",
       "      <td>3.662808e+04</td>\n",
       "    </tr>\n",
       "    <tr>\n",
       "      <th>min</th>\n",
       "      <td>1.000000</td>\n",
       "      <td>1.000000</td>\n",
       "      <td>2.420000e+02</td>\n",
       "    </tr>\n",
       "    <tr>\n",
       "      <th>25%</th>\n",
       "      <td>31.000000</td>\n",
       "      <td>1.000000</td>\n",
       "      <td>7.000000e+04</td>\n",
       "    </tr>\n",
       "    <tr>\n",
       "      <th>50%</th>\n",
       "      <td>62.000000</td>\n",
       "      <td>1.000000</td>\n",
       "      <td>7.500000e+04</td>\n",
       "    </tr>\n",
       "    <tr>\n",
       "      <th>75%</th>\n",
       "      <td>92.000000</td>\n",
       "      <td>1.000000</td>\n",
       "      <td>9.500000e+04</td>\n",
       "    </tr>\n",
       "    <tr>\n",
       "      <th>max</th>\n",
       "      <td>92.000000</td>\n",
       "      <td>5.000000</td>\n",
       "      <td>8.400000e+06</td>\n",
       "    </tr>\n",
       "  </tbody>\n",
       "</table>\n",
       "</div>"
      ],
      "text/plain": [
       "             Recency      Frequency      Monetary\n",
       "count  936660.000000  936660.000000  9.366600e+05\n",
       "mean       60.423782       1.110497  8.835885e+04\n",
       "std        26.234584       0.323117  3.662808e+04\n",
       "min         1.000000       1.000000  2.420000e+02\n",
       "25%        31.000000       1.000000  7.000000e+04\n",
       "50%        62.000000       1.000000  7.500000e+04\n",
       "75%        92.000000       1.000000  9.500000e+04\n",
       "max        92.000000       5.000000  8.400000e+06"
      ]
     },
     "execution_count": 136,
     "metadata": {},
     "output_type": "execute_result"
    }
   ],
   "source": [
    "df_customer.describe()"
   ]
  },
  {
   "cell_type": "code",
   "execution_count": 137,
   "metadata": {},
   "outputs": [
    {
     "data": {
      "text/plain": [
       "\"\\nfig, ax = plt.subplots(1, 3, figsize=(12,4))\\nsns.distplot(df_customer['Recency'], ax = ax[0])\\nsns.distplot(df_customer['Frequency'], ax = ax[1])\\nsns.distplot(df_customer['Monetary'], ax = ax[2])\\nplt.show()\\n\""
      ]
     },
     "execution_count": 137,
     "metadata": {},
     "output_type": "execute_result"
    }
   ],
   "source": [
    "# Ve phan phoi de kiem tra\n",
    "'''\n",
    "fig, ax = plt.subplots(1, 3, figsize=(12,4))\n",
    "sns.distplot(df_customer['Recency'], ax = ax[0])\n",
    "sns.distplot(df_customer['Frequency'], ax = ax[1])\n",
    "sns.distplot(df_customer['Monetary'], ax = ax[2])\n",
    "plt.show()\n",
    "'''"
   ]
  },
  {
   "cell_type": "code",
   "execution_count": 138,
   "metadata": {},
   "outputs": [],
   "source": [
    "from scipy import stats"
   ]
  },
  {
   "cell_type": "code",
   "execution_count": 139,
   "metadata": {},
   "outputs": [],
   "source": [
    "# kiem tra do lech cua phan phoi\n",
    "def analyze_skewness(x):\n",
    "    print(df_customer[x].skew().round(2))\n",
    "    print(np.log(df_customer[x]).skew().round(2))\n",
    "    print(np.sqrt(df_customer[x]).skew().round(2))\n",
    "    print(pd.Series(stats.boxcox(df_customer[x])[0]).skew().round(2))"
   ]
  },
  {
   "cell_type": "code",
   "execution_count": 140,
   "metadata": {},
   "outputs": [
    {
     "name": "stdout",
     "output_type": "stream",
     "text": [
      "0.02\n",
      "-0.87\n",
      "-0.19\n",
      "-0.13\n"
     ]
    }
   ],
   "source": [
    "analyze_skewness('Recency')"
   ]
  },
  {
   "cell_type": "code",
   "execution_count": 141,
   "metadata": {},
   "outputs": [
    {
     "name": "stdout",
     "output_type": "stream",
     "text": [
      "2.78\n",
      "2.6\n",
      "2.66\n",
      "2.53\n"
     ]
    }
   ],
   "source": [
    "analyze_skewness('Frequency')"
   ]
  },
  {
   "cell_type": "code",
   "execution_count": 142,
   "metadata": {},
   "outputs": [
    {
     "name": "stdout",
     "output_type": "stream",
     "text": [
      "25.15\n",
      "-2.01\n",
      "1.2\n",
      "0.32\n"
     ]
    }
   ],
   "source": [
    "analyze_skewness('Monetary')"
   ]
  }
 ],
 "metadata": {
  "kernelspec": {
   "display_name": "base",
   "language": "python",
   "name": "python3"
  },
  "language_info": {
   "codemirror_mode": {
    "name": "ipython",
    "version": 3
   },
   "file_extension": ".py",
   "mimetype": "text/x-python",
   "name": "python",
   "nbconvert_exporter": "python",
   "pygments_lexer": "ipython3",
   "version": "3.11.7"
  }
 },
 "nbformat": 4,
 "nbformat_minor": 2
}
